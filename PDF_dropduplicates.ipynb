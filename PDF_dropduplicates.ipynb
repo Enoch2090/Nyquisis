{
 "cells": [
  {
   "cell_type": "code",
   "execution_count": 1,
   "metadata": {},
   "outputs": [],
   "source": [
    "from pdf2image import convert_from_path, convert_from_bytes\n",
    "from matplotlib import pyplot as plt\n",
    "from matplotlib import image as img\n",
    "from PIL import Image\n",
    "import scipy.fftpack\n",
    "import cv2\n",
    "import numpy as np"
   ]
  },
  {
   "cell_type": "code",
   "execution_count": 2,
   "metadata": {},
   "outputs": [],
   "source": [
    "def phash(image, hash_size=32, highfreq_factor=4):\n",
    "    pixels = np.asarray(image)\n",
    "    dct = scipy.fftpack.dct(scipy.fftpack.dct(pixels, axis=0), axis=1)\n",
    "    dctlowfreq = dct[:hash_size, :hash_size]\n",
    "    med = np.median(dctlowfreq)\n",
    "    diff = dctlowfreq > med\n",
    "    return diff.astype(np.uint16)\n",
    "\n",
    "def drop_duplicates(images):\n",
    "    SIZE = 32\n",
    "    REWIND = 5\n",
    "    total_len = len(images)\n",
    "    hash_list = []\n",
    "    for i in range(total_len):\n",
    "        image = np.asarray(images[i].convert(\"L\")).astype(np.float64)\n",
    "        print(\"Page\",str(i+1)+\"/\"+str(total_len), \"hash obtained.\")\n",
    "        image = cv2.resize(image,(SIZE, SIZE))\n",
    "        hash_list.append(phash(image).reshape(-1))\n",
    "    return hash_list"
   ]
  },
  {
   "cell_type": "code",
   "execution_count": 3,
   "metadata": {},
   "outputs": [],
   "source": [
    "fpath = 've216,chap1,teach.pdf'\n",
    "images = convert_from_path(fpath)"
   ]
  },
  {
   "cell_type": "code",
   "execution_count": 4,
   "metadata": {
    "tags": [
     "outputPrepend",
     "outputPrepend",
     "outputPrepend",
     "outputPrepend",
     "outputPrepend",
     "outputPrepend",
     "outputPrepend",
     "outputPrepend",
     "outputPrepend",
     "outputPrepend",
     "outputPrepend",
     "outputPrepend",
     "outputPrepend",
     "outputPrepend",
     "outputPrepend",
     "outputPrepend",
     "outputPrepend"
    ]
   },
   "outputs": [
    {
     "output_type": "stream",
     "name": "stdout",
     "text": "Page 1/403 hash obtained.\nPage 2/403 hash obtained.\nPage 3/403 hash obtained.\nPage 4/403 hash obtained.\nPage 5/403 hash obtained.\nPage 6/403 hash obtained.\nPage 7/403 hash obtained.\nPage 8/403 hash obtained.\nPage 9/403 hash obtained.\nPage 10/403 hash obtained.\nPage 11/403 hash obtained.\nPage 12/403 hash obtained.\nPage 13/403 hash obtained.\nPage 14/403 hash obtained.\nPage 15/403 hash obtained.\nPage 16/403 hash obtained.\nPage 17/403 hash obtained.\nPage 18/403 hash obtained.\nPage 19/403 hash obtained.\nPage 20/403 hash obtained.\nPage 21/403 hash obtained.\nPage 22/403 hash obtained.\nPage 23/403 hash obtained.\nPage 24/403 hash obtained.\nPage 25/403 hash obtained.\nPage 26/403 hash obtained.\nPage 27/403 hash obtained.\nPage 28/403 hash obtained.\nPage 29/403 hash obtained.\nPage 30/403 hash obtained.\nPage 31/403 hash obtained.\nPage 32/403 hash obtained.\nPage 33/403 hash obtained.\nPage 34/403 hash obtained.\nPage 35/403 hash obtained.\nPage 36/403 hash obtained.\nPage 37/403 hash obtained.\nPage 38/403 hash obtained.\nPage 39/403 hash obtained.\nPage 40/403 hash obtained.\nPage 41/403 hash obtained.\nPage 42/403 hash obtained.\nPage 43/403 hash obtained.\nPage 44/403 hash obtained.\nPage 45/403 hash obtained.\nPage 46/403 hash obtained.\nPage 47/403 hash obtained.\nPage 48/403 hash obtained.\nPage 49/403 hash obtained.\nPage 50/403 hash obtained.\nPage 51/403 hash obtained.\nPage 52/403 hash obtained.\nPage 53/403 hash obtained.\nPage 54/403 hash obtained.\nPage 55/403 hash obtained.\nPage 56/403 hash obtained.\nPage 57/403 hash obtained.\nPage 58/403 hash obtained.\nPage 59/403 hash obtained.\nPage 60/403 hash obtained.\nPage 61/403 hash obtained.\nPage 62/403 hash obtained.\nPage 63/403 hash obtained.\nPage 64/403 hash obtained.\nPage 65/403 hash obtained.\nPage 66/403 hash obtained.\nPage 67/403 hash obtained.\nPage 68/403 hash obtained.\nPage 69/403 hash obtained.\nPage 70/403 hash obtained.\nPage 71/403 hash obtained.\nPage 72/403 hash obtained.\nPage 73/403 hash obtained.\nPage 74/403 hash obtained.\nPage 75/403 hash obtained.\nPage 76/403 hash obtained.\nPage 77/403 hash obtained.\nPage 78/403 hash obtained.\nPage 79/403 hash obtained.\nPage 80/403 hash obtained.\nPage 81/403 hash obtained.\nPage 82/403 hash obtained.\nPage 83/403 hash obtained.\nPage 84/403 hash obtained.\nPage 85/403 hash obtained.\nPage 86/403 hash obtained.\nPage 87/403 hash obtained.\nPage 88/403 hash obtained.\nPage 89/403 hash obtained.\nPage 90/403 hash obtained.\nPage 91/403 hash obtained.\nPage 92/403 hash obtained.\nPage 93/403 hash obtained.\nPage 94/403 hash obtained.\nPage 95/403 hash obtained.\nPage 96/403 hash obtained.\nPage 97/403 hash obtained.\nPage 98/403 hash obtained.\nPage 99/403 hash obtained.\nPage 100/403 hash obtained.\nPage 101/403 hash obtained.\nPage 102/403 hash obtained.\nPage 103/403 hash obtained.\nPage 104/403 hash obtained.\nPage 105/403 hash obtained.\nPage 106/403 hash obtained.\nPage 107/403 hash obtained.\nPage 108/403 hash obtained.\nPage 109/403 hash obtained.\nPage 110/403 hash obtained.\nPage 111/403 hash obtained.\nPage 112/403 hash obtained.\nPage 113/403 hash obtained.\nPage 114/403 hash obtained.\nPage 115/403 hash obtained.\nPage 116/403 hash obtained.\nPage 117/403 hash obtained.\nPage 118/403 hash obtained.\nPage 119/403 hash obtained.\nPage 120/403 hash obtained.\nPage 121/403 hash obtained.\nPage 122/403 hash obtained.\nPage 123/403 hash obtained.\nPage 124/403 hash obtained.\nPage 125/403 hash obtained.\nPage 126/403 hash obtained.\nPage 127/403 hash obtained.\nPage 128/403 hash obtained.\nPage 129/403 hash obtained.\nPage 130/403 hash obtained.\nPage 131/403 hash obtained.\nPage 132/403 hash obtained.\nPage 133/403 hash obtained.\nPage 134/403 hash obtained.\nPage 135/403 hash obtained.\nPage 136/403 hash obtained.\nPage 137/403 hash obtained.\nPage 138/403 hash obtained.\nPage 139/403 hash obtained.\nPage 140/403 hash obtained.\nPage 141/403 hash obtained.\nPage 142/403 hash obtained.\nPage 143/403 hash obtained.\nPage 144/403 hash obtained.\nPage 145/403 hash obtained.\nPage 146/403 hash obtained.\nPage 147/403 hash obtained.\nPage 148/403 hash obtained.\nPage 149/403 hash obtained.\nPage 150/403 hash obtained.\nPage 151/403 hash obtained.\nPage 152/403 hash obtained.\nPage 153/403 hash obtained.\nPage 154/403 hash obtained.\nPage 155/403 hash obtained.\nPage 156/403 hash obtained.\nPage 157/403 hash obtained.\nPage 158/403 hash obtained.\nPage 159/403 hash obtained.\nPage 160/403 hash obtained.\nPage 161/403 hash obtained.\nPage 162/403 hash obtained.\nPage 163/403 hash obtained.\nPage 164/403 hash obtained.\nPage 165/403 hash obtained.\nPage 166/403 hash obtained.\nPage 167/403 hash obtained.\nPage 168/403 hash obtained.\nPage 169/403 hash obtained.\nPage 170/403 hash obtained.\nPage 171/403 hash obtained.\nPage 172/403 hash obtained.\nPage 173/403 hash obtained.\nPage 174/403 hash obtained.\nPage 175/403 hash obtained.\nPage 176/403 hash obtained.\nPage 177/403 hash obtained.\nPage 178/403 hash obtained.\nPage 179/403 hash obtained.\nPage 180/403 hash obtained.\nPage 181/403 hash obtained.\nPage 182/403 hash obtained.\nPage 183/403 hash obtained.\nPage 184/403 hash obtained.\nPage 185/403 hash obtained.\nPage 186/403 hash obtained.\nPage 187/403 hash obtained.\nPage 188/403 hash obtained.\nPage 189/403 hash obtained.\nPage 190/403 hash obtained.\nPage 191/403 hash obtained.\nPage 192/403 hash obtained.\nPage 193/403 hash obtained.\nPage 194/403 hash obtained.\nPage 195/403 hash obtained.\nPage 196/403 hash obtained.\nPage 197/403 hash obtained.\nPage 198/403 hash obtained.\nPage 199/403 hash obtained.\nPage 200/403 hash obtained.\nPage 201/403 hash obtained.\nPage 202/403 hash obtained.\nPage 203/403 hash obtained.\nPage 204/403 hash obtained.\nPage 205/403 hash obtained.\nPage 206/403 hash obtained.\nPage 207/403 hash obtained.\nPage 208/403 hash obtained.\nPage 209/403 hash obtained.\nPage 210/403 hash obtained.\nPage 211/403 hash obtained.\nPage 212/403 hash obtained.\nPage 213/403 hash obtained.\nPage 214/403 hash obtained.\nPage 215/403 hash obtained.\nPage 216/403 hash obtained.\nPage 217/403 hash obtained.\nPage 218/403 hash obtained.\nPage 219/403 hash obtained.\nPage 220/403 hash obtained.\nPage 221/403 hash obtained.\nPage 222/403 hash obtained.\nPage 223/403 hash obtained.\nPage 224/403 hash obtained.\nPage 225/403 hash obtained.\nPage 226/403 hash obtained.\nPage 227/403 hash obtained.\nPage 228/403 hash obtained.\nPage 229/403 hash obtained.\nPage 230/403 hash obtained.\nPage 231/403 hash obtained.\nPage 232/403 hash obtained.\nPage 233/403 hash obtained.\nPage 234/403 hash obtained.\nPage 235/403 hash obtained.\nPage 236/403 hash obtained.\nPage 237/403 hash obtained.\nPage 238/403 hash obtained.\nPage 239/403 hash obtained.\nPage 240/403 hash obtained.\nPage 241/403 hash obtained.\nPage 242/403 hash obtained.\nPage 243/403 hash obtained.\nPage 244/403 hash obtained.\nPage 245/403 hash obtained.\nPage 246/403 hash obtained.\nPage 247/403 hash obtained.\nPage 248/403 hash obtained.\nPage 249/403 hash obtained.\nPage 250/403 hash obtained.\nPage 251/403 hash obtained.\nPage 252/403 hash obtained.\nPage 253/403 hash obtained.\nPage 254/403 hash obtained.\nPage 255/403 hash obtained.\nPage 256/403 hash obtained.\nPage 257/403 hash obtained.\nPage 258/403 hash obtained.\nPage 259/403 hash obtained.\nPage 260/403 hash obtained.\nPage 261/403 hash obtained.\nPage 262/403 hash obtained.\nPage 263/403 hash obtained.\nPage 264/403 hash obtained.\nPage 265/403 hash obtained.\nPage 266/403 hash obtained.\nPage 267/403 hash obtained.\nPage 268/403 hash obtained.\nPage 269/403 hash obtained.\nPage 270/403 hash obtained.\nPage 271/403 hash obtained.\nPage 272/403 hash obtained.\nPage 273/403 hash obtained.\nPage 274/403 hash obtained.\nPage 275/403 hash obtained.\nPage 276/403 hash obtained.\nPage 277/403 hash obtained.\nPage 278/403 hash obtained.\nPage 279/403 hash obtained.\nPage 280/403 hash obtained.\nPage 281/403 hash obtained.\nPage 282/403 hash obtained.\nPage 283/403 hash obtained.\nPage 284/403 hash obtained.\nPage 285/403 hash obtained.\nPage 286/403 hash obtained.\nPage 287/403 hash obtained.\nPage 288/403 hash obtained.\nPage 289/403 hash obtained.\nPage 290/403 hash obtained.\nPage 291/403 hash obtained.\nPage 292/403 hash obtained.\nPage 293/403 hash obtained.\nPage 294/403 hash obtained.\nPage 295/403 hash obtained.\nPage 296/403 hash obtained.\nPage 297/403 hash obtained.\nPage 298/403 hash obtained.\nPage 299/403 hash obtained.\nPage 300/403 hash obtained.\nPage 301/403 hash obtained.\nPage 302/403 hash obtained.\nPage 303/403 hash obtained.\nPage 304/403 hash obtained.\nPage 305/403 hash obtained.\nPage 306/403 hash obtained.\nPage 307/403 hash obtained.\nPage 308/403 hash obtained.\nPage 309/403 hash obtained.\nPage 310/403 hash obtained.\nPage 311/403 hash obtained.\nPage 312/403 hash obtained.\nPage 313/403 hash obtained.\nPage 314/403 hash obtained.\nPage 315/403 hash obtained.\nPage 316/403 hash obtained.\nPage 317/403 hash obtained.\nPage 318/403 hash obtained.\nPage 319/403 hash obtained.\nPage 320/403 hash obtained.\nPage 321/403 hash obtained.\nPage 322/403 hash obtained.\nPage 323/403 hash obtained.\nPage 324/403 hash obtained.\nPage 325/403 hash obtained.\nPage 326/403 hash obtained.\nPage 327/403 hash obtained.\nPage 328/403 hash obtained.\nPage 329/403 hash obtained.\nPage 330/403 hash obtained.\nPage 331/403 hash obtained.\nPage 332/403 hash obtained.\nPage 333/403 hash obtained.\nPage 334/403 hash obtained.\nPage 335/403 hash obtained.\nPage 336/403 hash obtained.\nPage 337/403 hash obtained.\nPage 338/403 hash obtained.\nPage 339/403 hash obtained.\nPage 340/403 hash obtained.\nPage 341/403 hash obtained.\nPage 342/403 hash obtained.\nPage 343/403 hash obtained.\nPage 344/403 hash obtained.\nPage 345/403 hash obtained.\nPage 346/403 hash obtained.\nPage 347/403 hash obtained.\nPage 348/403 hash obtained.\nPage 349/403 hash obtained.\nPage 350/403 hash obtained.\nPage 351/403 hash obtained.\nPage 352/403 hash obtained.\nPage 353/403 hash obtained.\nPage 354/403 hash obtained.\nPage 355/403 hash obtained.\nPage 356/403 hash obtained.\nPage 357/403 hash obtained.\nPage 358/403 hash obtained.\nPage 359/403 hash obtained.\nPage 360/403 hash obtained.\nPage 361/403 hash obtained.\nPage 362/403 hash obtained.\nPage 363/403 hash obtained.\nPage 364/403 hash obtained.\nPage 365/403 hash obtained.\nPage 366/403 hash obtained.\nPage 367/403 hash obtained.\nPage 368/403 hash obtained.\nPage 369/403 hash obtained.\nPage 370/403 hash obtained.\nPage 371/403 hash obtained.\nPage 372/403 hash obtained.\nPage 373/403 hash obtained.\nPage 374/403 hash obtained.\nPage 375/403 hash obtained.\nPage 376/403 hash obtained.\nPage 377/403 hash obtained.\nPage 378/403 hash obtained.\nPage 379/403 hash obtained.\nPage 380/403 hash obtained.\nPage 381/403 hash obtained.\nPage 382/403 hash obtained.\nPage 383/403 hash obtained.\nPage 384/403 hash obtained.\nPage 385/403 hash obtained.\nPage 386/403 hash obtained.\nPage 387/403 hash obtained.\nPage 388/403 hash obtained.\nPage 389/403 hash obtained.\nPage 390/403 hash obtained.\nPage 391/403 hash obtained.\nPage 392/403 hash obtained.\nPage 393/403 hash obtained.\nPage 394/403 hash obtained.\nPage 395/403 hash obtained.\nPage 396/403 hash obtained.\nPage 397/403 hash obtained.\nPage 398/403 hash obtained.\nPage 399/403 hash obtained.\nPage 400/403 hash obtained.\nPage 401/403 hash obtained.\nPage 402/403 hash obtained.\nPage 403/403 hash obtained.\n"
    }
   ],
   "source": [
    "hash_list = drop_duplicates(images)"
   ]
  },
  {
   "cell_type": "code",
   "execution_count": 13,
   "metadata": {},
   "outputs": [],
   "source": [
    "hash_altr = hash_list[1::]"
   ]
  },
  {
   "cell_type": "code",
   "execution_count": 25,
   "metadata": {},
   "outputs": [],
   "source": [
    "diff = [15000000]\n",
    "for i in range(len(hash_altr)):\n",
    "    hash_diff = abs(hash_altr[i]-hash_list[i])\n",
    "    hamming_dist = hash_diff.sum()\n",
    "    diff.append(hamming_dist)\n",
    "\n",
    "f = lambda i : (i>=10000000)\n",
    "pages_to_keep = list(map(f,diff))\n",
    "diff.append(15000000)"
   ]
  },
  {
   "cell_type": "code",
   "execution_count": 26,
   "metadata": {},
   "outputs": [],
   "source": [
    "import PyPDF2\n",
    "\n",
    "pdfReader = PyPDF2.PdfFileReader(fpath)\n",
    "pdfnums = pdfReader.numPages\n",
    "pdfWriter = PyPDF2.PdfFileWriter()\n",
    "for num in range(pdfnums):\n",
    "    if diff[num+1]>=10000000:\n",
    "        pageObj = pdfReader.getPage(num)\n",
    "        pdfWriter.addPage(pageObj)\n",
    "with open(fpath.replace('.pdf','_modified.pdf'), 'wb') as pdfOutputFile:\n",
    "    pdfWriter.write(pdfOutputFile)"
   ]
  }
 ],
 "metadata": {
  "language_info": {
   "codemirror_mode": {
    "name": "ipython",
    "version": 3
   },
   "file_extension": ".py",
   "mimetype": "text/x-python",
   "name": "python",
   "nbconvert_exporter": "python",
   "pygments_lexer": "ipython3",
   "version": "3.7.6-final"
  },
  "orig_nbformat": 2,
  "kernelspec": {
   "name": "python37664bit786858f58ce340b2bf40857ba54fddf2",
   "display_name": "Python 3.7.6 64-bit"
  }
 },
 "nbformat": 4,
 "nbformat_minor": 2
}